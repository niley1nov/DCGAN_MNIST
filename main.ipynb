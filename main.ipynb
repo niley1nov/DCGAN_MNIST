{
 "cells": [
  {
   "cell_type": "code",
   "execution_count": 1,
   "metadata": {},
   "outputs": [],
   "source": [
    "import os\n",
    "import numpy as np\n",
    "import tensorflow as tf\n",
    "from tensorflow import keras\n",
    "from tensorflow.keras import layers,optimizers,losses\n",
    "from scipy.misc import toimage\n",
    "import matplotlib.pyplot as plt\n",
    "import glob\n",
    "import imageio\n",
    "import PIL\n",
    "import time\n",
    "from IPython import display\n",
    "\n",
    "os.environ['TF_CPP_MIN_LOG_LEVEL'] = '2'"
   ]
  },
  {
   "cell_type": "code",
   "execution_count": 2,
   "metadata": {},
   "outputs": [],
   "source": [
    "z_dim = 100\n",
    "epochs = 60\n",
    "BATCH_SIZE = 256\n",
    "BUFFER_SIZE = 60000\n",
    "learning_rate = 1e-4\n",
    "num_examples_to_generate = 16\n",
    "\n",
    "seed = tf.random.normal([num_examples_to_generate, z_dim])"
   ]
  },
  {
   "cell_type": "code",
   "execution_count": 3,
   "metadata": {},
   "outputs": [
    {
     "name": "stdout",
     "output_type": "stream",
     "text": [
      "(70000, 28, 28) (70000,)\n"
     ]
    }
   ],
   "source": [
    "(train_images,train_labels),(test_images,test_labels) = keras.datasets.mnist.load_data()\n",
    "train_images = np.concatenate((train_images,test_images))\n",
    "train_labels = np.concatenate((train_labels,test_labels))\n",
    "print(train_images.shape,train_labels.shape)\n",
    "train_images = train_images.reshape(train_images.shape[0],28,28,1).astype('float32')\n",
    "train_images = (train_images-127.5)/127.5\n",
    "train_dataset = tf.data.Dataset.from_tensor_slices(train_images).shuffle(BUFFER_SIZE).batch(BATCH_SIZE)"
   ]
  },
  {
   "cell_type": "code",
   "execution_count": 4,
   "metadata": {},
   "outputs": [],
   "source": [
    "class Generator(keras.Model):\n",
    "    def __init__(self):\n",
    "        super(Generator,self).__init__()\n",
    "        self.dense1 = layers.Dense(7*7*256,use_bias=False,input_shape=(100,))\n",
    "        self.bn1 = layers.BatchNormalization()\n",
    "        self.reshape = layers.Reshape((7,7,256))\n",
    "        self.conv2 = layers.Conv2DTranspose(filters=128,kernel_size=5,strides=1,padding='same',use_bias=False)\n",
    "        self.bn2 = layers.BatchNormalization()\n",
    "        self.conv3 = layers.Conv2DTranspose(filters=64,kernel_size=5,strides=2,padding='same',use_bias=False)\n",
    "        self.bn3 = layers.BatchNormalization()\n",
    "        self.conv4 = layers.Conv2DTranspose(filters=1,kernel_size=5,strides=2,padding='same',use_bias=False)\n",
    "        return\n",
    "        \n",
    "    def call(self,inputs,training=None):\n",
    "        x = tf.nn.leaky_relu(self.bn1(self.dense1(inputs)))\n",
    "        x = self.reshape(x)\n",
    "        x = tf.nn.leaky_relu(self.bn2(self.conv2(x),training=training))\n",
    "        x = tf.nn.leaky_relu(self.bn3(self.conv3(x),training=training))\n",
    "        x = tf.tanh(self.conv4(x))\n",
    "        return x"
   ]
  },
  {
   "cell_type": "code",
   "execution_count": 5,
   "metadata": {},
   "outputs": [],
   "source": [
    "class Discriminator(keras.Model):\n",
    "    def __init__(self):\n",
    "        super(Discriminator,self).__init__()\n",
    "        self.conv1 = keras.layers.Conv2D(filters=64,kernel_size=5,strides=2,padding='same',input_shape=[28,28,1])\n",
    "        self.drop1 = layers.Dropout(0.3)\n",
    "        self.conv2 = keras.layers.Conv2D(filters=128,kernel_size=5,strides=2,padding='same')\n",
    "        self.drop2 = layers.Dropout(0.3)\n",
    "        self.flatten4 = keras.layers.Flatten()\n",
    "        self.dense4 = keras.layers.Dense(1)\n",
    "        return\n",
    "        \n",
    "    def call(self,inputs,training=None):\n",
    "        x = tf.nn.leaky_relu(self.conv1(inputs))\n",
    "        x = self.drop1(x,training=training)\n",
    "        x = tf.nn.leaky_relu(self.conv2(x))\n",
    "        x = self.drop2(x,training=training)\n",
    "        x = self.dense4(self.flatten4(x))\n",
    "        return x"
   ]
  },
  {
   "cell_type": "code",
   "execution_count": 6,
   "metadata": {
    "scrolled": true
   },
   "outputs": [
    {
     "name": "stdout",
     "output_type": "stream",
     "text": [
      "Model: \"generator\"\n",
      "_________________________________________________________________\n",
      "Layer (type)                 Output Shape              Param #   \n",
      "=================================================================\n",
      "dense (Dense)                multiple                  1254400   \n",
      "_________________________________________________________________\n",
      "batch_normalization (BatchNo multiple                  50176     \n",
      "_________________________________________________________________\n",
      "reshape (Reshape)            multiple                  0         \n",
      "_________________________________________________________________\n",
      "conv2d_transpose (Conv2DTran multiple                  819200    \n",
      "_________________________________________________________________\n",
      "batch_normalization_1 (Batch multiple                  512       \n",
      "_________________________________________________________________\n",
      "conv2d_transpose_1 (Conv2DTr multiple                  204800    \n",
      "_________________________________________________________________\n",
      "batch_normalization_2 (Batch multiple                  256       \n",
      "_________________________________________________________________\n",
      "conv2d_transpose_2 (Conv2DTr multiple                  1600      \n",
      "=================================================================\n",
      "Total params: 2,330,944\n",
      "Trainable params: 2,305,472\n",
      "Non-trainable params: 25,472\n",
      "_________________________________________________________________\n",
      "Model: \"discriminator\"\n",
      "_________________________________________________________________\n",
      "Layer (type)                 Output Shape              Param #   \n",
      "=================================================================\n",
      "conv2d (Conv2D)              multiple                  1664      \n",
      "_________________________________________________________________\n",
      "dropout (Dropout)            multiple                  0         \n",
      "_________________________________________________________________\n",
      "conv2d_1 (Conv2D)            multiple                  204928    \n",
      "_________________________________________________________________\n",
      "dropout_1 (Dropout)          multiple                  0         \n",
      "_________________________________________________________________\n",
      "flatten (Flatten)            multiple                  0         \n",
      "_________________________________________________________________\n",
      "dense_1 (Dense)              multiple                  6273      \n",
      "=================================================================\n",
      "Total params: 212,865\n",
      "Trainable params: 212,865\n",
      "Non-trainable params: 0\n",
      "_________________________________________________________________\n"
     ]
    }
   ],
   "source": [
    "generator = Generator()\n",
    "generator.build(input_shape=(BATCH_SIZE,z_dim))\n",
    "generator.summary()\n",
    "discriminator = Discriminator()\n",
    "discriminator.build(input_shape=(BATCH_SIZE,28,28,1))\n",
    "discriminator.summary()"
   ]
  },
  {
   "cell_type": "code",
   "execution_count": 7,
   "metadata": {},
   "outputs": [
    {
     "data": {
      "text/plain": [
       "<matplotlib.image.AxesImage at 0x7f205c41b090>"
      ]
     },
     "execution_count": 7,
     "metadata": {},
     "output_type": "execute_result"
    },
    {
     "data": {
      "image/png": "[encoded data removed]",
      "text/plain": [
       "<Figure size 432x288 with 1 Axes>"
      ]
     },
     "metadata": {
      "needs_background": "light"
     },
     "output_type": "display_data"
    }
   ],
   "source": [
    "noise = tf.random.normal([1,100])\n",
    "generated_image = generator(noise,training=False)\n",
    "plt.imshow(generated_image[0,:,:,0],cmap='gray')"
   ]
  },
  {
   "cell_type": "code",
   "execution_count": 8,
   "metadata": {},
   "outputs": [
    {
     "name": "stdout",
     "output_type": "stream",
     "text": [
      "[[-0.00012422]]\n"
     ]
    }
   ],
   "source": [
    "decision = discriminator(generated_image)\n",
    "print(decision.numpy())"
   ]
  },
  {
   "cell_type": "code",
   "execution_count": 9,
   "metadata": {},
   "outputs": [],
   "source": [
    "def celoss_ones(logits,smooth=0.0):\n",
    "    return tf.reduce_mean(tf.keras.losses.BinaryCrossentropy(from_logits=True)(tf.ones_like(logits)-smooth,logits))\n",
    "\n",
    "def celoss_zeros(logits,smooth=0.0):\n",
    "    return tf.reduce_mean(tf.keras.losses.BinaryCrossentropy(from_logits=True)(tf.zeros_like(logits)+smooth,logits))\n",
    "\n",
    "def discriminator_loss(real_logits,fake_logits):\n",
    "    real_loss = celoss_ones(real_logits,smooth=0.1)\n",
    "    fake_loss = celoss_zeros(fake_logits,smooth=0.0)\n",
    "    total_loss = real_loss + fake_loss\n",
    "    return total_loss\n",
    "    \n",
    "def generator_loss(fake_logits):\n",
    "    loss = celoss_ones(fake_logits,smooth=0.1)\n",
    "    return loss"
   ]
  },
  {
   "cell_type": "code",
   "execution_count": 10,
   "metadata": {},
   "outputs": [],
   "source": [
    "disc_optimizer = optimizers.Adam(learning_rate=learning_rate)\n",
    "gen_optimizer = optimizers.Adam(learning_rate=learning_rate)"
   ]
  },
  {
   "cell_type": "code",
   "execution_count": 11,
   "metadata": {},
   "outputs": [],
   "source": [
    "checkpoint_dir = './checkpoints'\n",
    "checkpoint_prefix = os.path.join(checkpoint_dir, \"ckpt\")\n",
    "checkpoint = tf.train.Checkpoint(generator_optimizer=gen_optimizer,\n",
    "                                 discriminator_optimizer=disc_optimizer,\n",
    "                                 generator=generator,\n",
    "                                 discriminator=discriminator)"
   ]
  },
  {
   "cell_type": "code",
   "execution_count": 12,
   "metadata": {},
   "outputs": [],
   "source": [
    "def generate_and_save_images(model, epoch, test_input):\n",
    "    predictions = model(test_input,training=False)\n",
    "    fig = plt.figure(figsize=(4,4))\n",
    "    \n",
    "    for i in range(predictions.shape[0]):\n",
    "        plt.subplot(4, 4, i+1)\n",
    "        plt.imshow(predictions[i, :, :, 0] * 127.5 + 127.5, cmap='gray')\n",
    "        plt.axis('off')\n",
    "        \n",
    "    plt.savefig('images/image_at_epoch_{:04d}.png'.format(epoch))\n",
    "    plt.show()"
   ]
  },
  {
   "cell_type": "code",
   "execution_count": 13,
   "metadata": {},
   "outputs": [],
   "source": [
    "@tf.function\n",
    "def train_step(real_image):\n",
    "    noise = tf.random.normal([BATCH_SIZE,z_dim])\n",
    "    with tf.GradientTape() as gen_tape, tf.GradientTape() as disc_tape:\n",
    "        fake_image = generator(noise,training=True)\n",
    "        real_logits = discriminator(real_image,training=True)\n",
    "        fake_logits = discriminator(fake_image,training=True)\n",
    "        gen_loss = generator_loss(fake_logits)\n",
    "        disc_loss = discriminator_loss(real_logits,fake_logits)\n",
    "    gen_grads = gen_tape.gradient(gen_loss,generator.trainable_variables)\n",
    "    disc_grads = disc_tape.gradient(disc_loss,discriminator.trainable_variables)\n",
    "    gen_optimizer.apply_gradients(zip(gen_grads,generator.trainable_variables))\n",
    "    disc_optimizer.apply_gradients(zip(disc_grads,discriminator.trainable_variables))"
   ]
  },
  {
   "cell_type": "code",
   "execution_count": 14,
   "metadata": {},
   "outputs": [],
   "source": [
    "def train(dataset,epochs):\n",
    "    for epoch in range(epochs):\n",
    "        start = time.time()\n",
    "        for image_batch in dataset:\n",
    "            train_step(image_batch)\n",
    "        display.clear_output(wait=True)\n",
    "        generate_and_save_images(generator,epoch+1,seed)\n",
    "        if (epoch+1)%10==0:\n",
    "            checkpoint.save(file_prefix=checkpoint_prefix)\n",
    "        print('Time for epoch {} is {} sec'.format(epoch+1,time.time()-start))\n",
    "    display.clear_output(wait=True)\n",
    "    generate_and_save_images(generator,epochs,seed)"
   ]
  },
  {
   "cell_type": "code",
   "execution_count": 15,
   "metadata": {},
   "outputs": [
    {
     "data": {
      "image/png": "[encoded data removed]",
      "text/plain": [
       "<Figure size 288x288 with 16 Axes>"
      ]
     },
     "metadata": {
      "needs_background": "light"
     },
     "output_type": "display_data"
    },
    {
     "name": "stdout",
     "output_type": "stream",
     "text": [
      "CPU times: user 3min 40s, sys: 11.9 s, total: 3min 52s\n",
      "Wall time: 11min 18s\n"
     ]
    }
   ],
   "source": [
    "%%time\n",
    "train(train_dataset, epochs)"
   ]
  },
  {
   "cell_type": "code",
   "execution_count": null,
   "metadata": {},
   "outputs": [],
   "source": [
    "checkpoint.restore(tf.train.latest_checkpoint(checkpoint_dir))"
   ]
  },
  {
   "cell_type": "code",
   "execution_count": 16,
   "metadata": {},
   "outputs": [],
   "source": [
    "def display_image(epoch_no):\n",
    "    return PIL.Image.open('images/image_at_epoch_{:04d}.png'.format(epoch_no))"
   ]
  },
  {
   "cell_type": "code",
   "execution_count": 17,
   "metadata": {},
   "outputs": [
    {
     "data": {
      "image/png": "[encoded data removed]",
      "text/plain": [
       "<PIL.PngImagePlugin.PngImageFile image mode=RGBA size=288x288 at 0x7F205C50AA90>"
      ]
     },
     "execution_count": 17,
     "metadata": {},
     "output_type": "execute_result"
    }
   ],
   "source": [
    "display_image(epochs)"
   ]
  },
  {
   "cell_type": "code",
   "execution_count": 18,
   "metadata": {},
   "outputs": [],
   "source": [
    "anim_file = 'dcgan.gif'\n",
    "\n",
    "with imageio.get_writer(anim_file, mode='I') as writer:\n",
    "    filenames = glob.glob('images/image*.png')\n",
    "    filenames = sorted(filenames)\n",
    "    last = -1\n",
    "    for i,filename in enumerate(filenames):\n",
    "        frame = 2*(i**0.5)\n",
    "        if round(frame) > round(last):\n",
    "            last = frame\n",
    "        else:\n",
    "            continue\n",
    "        image = imageio.imread(filename)\n",
    "        writer.append_data(image)\n",
    "    image = imageio.imread(filename)\n",
    "    writer.append_data(image)\n",
    "\n",
    "import IPython\n",
    "if IPython.version_info > (6,2,0,''):\n",
    "    display.Image(filename=anim_file)"
   ]
  },
  {
   "cell_type": "code",
   "execution_count": null,
   "metadata": {},
   "outputs": [],
   "source": []
  }
 ],
 "metadata": {
  "kernelspec": {
   "display_name": "Python (tf2)",
   "language": "python",
   "name": "tf2"
  },
  "language_info": {
   "codemirror_mode": {
    "name": "ipython",
    "version": 3
   },
   "file_extension": ".py",
   "mimetype": "text/x-python",
   "name": "python",
   "nbconvert_exporter": "python",
   "pygments_lexer": "ipython3",
   "version": "3.7.5"
  }
 },
 "nbformat": 4,
 "nbformat_minor": 2
}
